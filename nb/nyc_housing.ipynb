{
 "cells": [
  {
   "cell_type": "markdown",
   "metadata": {},
   "source": [
    "# NYC Housing"
   ]
  },
  {
   "cell_type": "code",
   "execution_count": 1,
   "metadata": {},
   "outputs": [],
   "source": [
    "import configparser\n",
    "import io\n",
    "import os\n",
    "\n",
    "import requests\n",
    "from requests.exceptions import RequestException"
   ]
  },
  {
   "cell_type": "code",
   "execution_count": 2,
   "metadata": {},
   "outputs": [],
   "source": [
    "CONFIG_PATH = os.path.expanduser('~/config.ini')\n",
    "CONFIG = configparser.ConfigParser()\n",
    "CONFIG.read(CONFIG_PATH)\n",
    "KEY = CONFIG['enigma']['key']\n",
    "\n",
    "dataset_id = 'fa7ab996-fb43-4e86-80e7-f8e82ccba15f'"
   ]
  },
  {
   "cell_type": "code",
   "execution_count": 3,
   "metadata": {},
   "outputs": [],
   "source": [
    "headers = {'authorization': 'Bearer {}'.format(KEY)}\n",
    "base_url = 'https://public.enigma.com/api/'\n",
    "url = base_url + 'datasets/{}'.format(dataset_id)\n",
    "response = requests.get(url, headers=headers)\n",
    "json = response.json()\n",
    "snapshot_id = json['current_snapshot']['id']\n",
    "\n",
    "url = base_url + 'export/{}'.format(snapshot_id)\n",
    "response = requests.get(url, headers=headers).content\n",
    "df = pd.read_csv(io.StringIO(response.decode('utf-8')))"
   ]
  },
  {
   "cell_type": "code",
   "execution_count": 4,
   "metadata": {},
   "outputs": [
    {
     "name": "stdout",
     "output_type": "stream",
     "text": [
      "<class 'pandas.core.frame.DataFrame'>\n",
      "RangeIndex: 375745 entries, 0 to 375744\n",
      "Data columns (total 18 columns):\n",
      "camis                    375745 non-null int64\n",
      "dba                      375223 non-null object\n",
      "boro                     375745 non-null object\n",
      "building                 375559 non-null object\n",
      "street                   375741 non-null object\n",
      "zipcode                  375741 non-null float64\n",
      "phone                    375741 non-null object\n",
      "cuisine_description      375745 non-null object\n",
      "inspection_date          375745 non-null object\n",
      "action                   374275 non-null object\n",
      "violation_code           369394 non-null object\n",
      "violation_description    367906 non-null object\n",
      "critical_flag            375745 non-null object\n",
      "score                    355797 non-null float64\n",
      "grade                    189627 non-null object\n",
      "grade_date               187837 non-null object\n",
      "record_date              375745 non-null object\n",
      "inspection_type          374275 non-null object\n",
      "dtypes: float64(2), int64(1), object(15)\n",
      "memory usage: 440.8 MB\n"
     ]
    }
   ],
   "source": [
    "df.info(memory_usage='deep')"
   ]
  },
  {
   "cell_type": "code",
   "execution_count": 5,
   "metadata": {},
   "outputs": [],
   "source": [
    "df.action = df.action.astype('category')"
   ]
  },
  {
   "cell_type": "code",
   "execution_count": 6,
   "metadata": {},
   "outputs": [
    {
     "name": "stdout",
     "output_type": "stream",
     "text": [
      "<class 'pandas.core.frame.DataFrame'>\n",
      "RangeIndex: 375745 entries, 0 to 375744\n",
      "Data columns (total 18 columns):\n",
      "camis                    375745 non-null int64\n",
      "dba                      375223 non-null object\n",
      "boro                     375745 non-null object\n",
      "building                 375559 non-null object\n",
      "street                   375741 non-null object\n",
      "zipcode                  375741 non-null float64\n",
      "phone                    375741 non-null object\n",
      "cuisine_description      375745 non-null object\n",
      "inspection_date          375745 non-null object\n",
      "action                   374275 non-null category\n",
      "violation_code           369394 non-null object\n",
      "violation_description    367906 non-null object\n",
      "critical_flag            375745 non-null object\n",
      "score                    355797 non-null float64\n",
      "grade                    189627 non-null object\n",
      "grade_date               187837 non-null object\n",
      "record_date              375745 non-null object\n",
      "inspection_type          374275 non-null object\n",
      "dtypes: category(1), float64(2), int64(1), object(14)\n",
      "memory usage: 403.1 MB\n"
     ]
    }
   ],
   "source": [
    "df.info(memory_usage='deep')"
   ]
  }
 ],
 "metadata": {
  "kernelspec": {
   "display_name": "Python 3",
   "language": "python",
   "name": "python3"
  },
  "language_info": {
   "codemirror_mode": {
    "name": "ipython",
    "version": 3
   },
   "file_extension": ".py",
   "mimetype": "text/x-python",
   "name": "python",
   "nbconvert_exporter": "python",
   "pygments_lexer": "ipython3",
   "version": "3.6.6"
  }
 },
 "nbformat": 4,
 "nbformat_minor": 2
}
